{
 "cells": [
  {
   "cell_type": "code",
   "execution_count": 1,
   "metadata": {},
   "outputs": [],
   "source": [
    "import random\n",
    "import torch\n",
    "import torch.nn as nn\n",
    "from torch.utils.data import Dataset, DataLoader\n"
   ]
  },
  {
   "cell_type": "code",
   "execution_count": 2,
   "metadata": {},
   "outputs": [],
   "source": [
    "# Utils\n",
    "def make_random_bin(length):\n",
    "\t\treturn \"\".join([str(random.randint(0, 1)) for i in range(length)])\n",
    "\n",
    "def add_bin(a: str, b: str):\n",
    "\t\tans = bin(int(a[::-1], 2) + int(b[::-1], 2))[2:]\n",
    "\t\t# Pad with zeros\n",
    "\t\tans = \"0\" * (len(a) - len(ans)) + ans\n",
    "\t\treturn ans[::-1]\n"
   ]
  },
  {
   "cell_type": "markdown",
   "metadata": {},
   "source": [
    "Create the dataset"
   ]
  },
  {
   "cell_type": "code",
   "execution_count": 3,
   "metadata": {},
   "outputs": [],
   "source": [
    "\n",
    "class BinaryDataset(Dataset):\n",
    "\tdef __init__(self, seq_length, num_bits):\n",
    "\t\tself.seq_length = seq_length\n",
    "\t\tself.num_bits = num_bits\n",
    "\t\tself.seq1 = make_random_bin(seq_length)\n",
    "\t\tself.seq2 = make_random_bin(seq_length)\n",
    "\n",
    "\tdef __getitem__(self, index):\n",
    "\t\tsample1 = self.seq1[index:index + self.num_bits - 1] + \"0\"\n",
    "\t\tsample2 = self.seq2[index:index + self.num_bits - 1] + \"0\"\n",
    "\t\tinput = torch.tensor([[int(x, 2) for x in sample1], [int(x, 2) for x in sample2]])\n",
    "\t\tinput = torch.transpose(input, 0, 1).float()\n",
    "\t\toutput = torch.tensor([int(x, 2) for x in add_bin(sample1, sample2)])\n",
    "\t\treturn input, output\n",
    "\n",
    "\tdef __len__(self):\n",
    "\t\treturn self.seq_length - self.num_bits + 1"
   ]
  },
  {
   "cell_type": "code",
   "execution_count": 56,
   "metadata": {},
   "outputs": [
    {
     "name": "stdout",
     "output_type": "stream",
     "text": [
      "(tensor([[0., 1.],\n",
      "        [1., 1.],\n",
      "        [1., 1.],\n",
      "        [0., 0.],\n",
      "        [0., 0.]]), tensor([1, 0, 1, 1, 0]))\n"
     ]
    }
   ],
   "source": [
    "\n",
    "data = BinaryDataset(128, 5)\n",
    "test_dataloader = DataLoader(dataset=data, batch_size=128)\n",
    "\n",
    "print(data.__getitem__(0))\n"
   ]
  },
  {
   "cell_type": "code",
   "execution_count": 57,
   "metadata": {},
   "outputs": [],
   "source": [
    "# Define the model\n",
    "class Model(nn.Module):\n",
    "\tdef __init__(self) -> None:\n",
    "\t\tsuper().__init__()\n",
    "\t\tself.n_layers = 1\n",
    "\t\tself.hidden_dim = 10\n",
    "\n",
    "\t\tself.rnn = nn.RNN(input_size=2, hidden_size=self.hidden_dim, num_layers=self.n_layers, nonlinearity='relu')\n",
    "\t\tself.fc = nn.Linear(self.hidden_dim, 1)\n",
    "\n",
    "\tdef forward(self, x):\n",
    "\t\tbatch_size = x.size(1)\n",
    "\t\thidden = self.init_hidden(batch_size)\n",
    "\n",
    "\t\t# X is of size (batch_size, sequence_length, input_size)\n",
    "\t\t# hidden is of size (n_layers, sequence_length, hidden_dim)\n",
    "\t\t\n",
    "\t\tout, hidden = self.rnn(x, hidden)\n",
    "\n",
    "\t\tout = self.fc(out)\n",
    "\n",
    "\t\tout = nn.Sigmoid()(out)\n",
    "\n",
    "\t\treturn out, hidden\n",
    "\n",
    "\tdef init_hidden(self, batch_size):\n",
    "\t\t# This method generates the first hidden state of zeros which we'll use in the forward pass\n",
    "\t\t# We'll send the tensor holding the hidden state to the device we specified earlier as well\n",
    "\t\thidden = torch.zeros(self.n_layers, batch_size, self.hidden_dim)\n",
    "\t\treturn hidden"
   ]
  },
  {
   "cell_type": "code",
   "execution_count": 58,
   "metadata": {},
   "outputs": [
    {
     "name": "stdout",
     "output_type": "stream",
     "text": [
      "0.4612903225806452\n"
     ]
    }
   ],
   "source": [
    "# Create the model\n",
    "model = Model()\n",
    "\n",
    "# Define the loss function and optimizer\n",
    "criterion = nn.BCELoss()\n",
    "optimizer = torch.optim.Adam(model.parameters(), lr=0.001)\n",
    "\n",
    "# Test the model's accuracy\n",
    "def compute_accuracy(label, pred):\n",
    "\tpred = torch.round(pred).squeeze()\n",
    "\t# Pred is of size (batch_size, sequence_length)\n",
    "\t# Label is of size (batch_size, sequence_length)\n",
    "\treturn torch.sum(label == pred).item() / (len(label) * len(label[0]))\n",
    "\n",
    "\n",
    "# Try the model on random data\n",
    "for x, label in iter(test_dataloader):\n",
    "\tout, hidden = model(x)\n",
    "\tprint(compute_accuracy(label, out))\n",
    "\n"
   ]
  },
  {
   "cell_type": "code",
   "execution_count": 60,
   "metadata": {},
   "outputs": [
    {
     "name": "stdout",
     "output_type": "stream",
     "text": [
      "Epoch [0/500], Loss: 0.6784, Accuracy: 56.13%\n",
      "Epoch [50/500], Loss: 0.6712, Accuracy: 52.42%\n",
      "Epoch [100/500], Loss: 0.6628, Accuracy: 58.23%\n",
      "Epoch [150/500], Loss: 0.6525, Accuracy: 60.97%\n",
      "Epoch [200/500], Loss: 0.6393, Accuracy: 68.06%\n",
      "Epoch [250/500], Loss: 0.6241, Accuracy: 72.74%\n",
      "Epoch [300/500], Loss: 0.6074, Accuracy: 74.68%\n",
      "Epoch [350/500], Loss: 0.5874, Accuracy: 75.32%\n",
      "Epoch [400/500], Loss: 0.5663, Accuracy: 76.61%\n",
      "Epoch [450/500], Loss: 0.5473, Accuracy: 76.29%\n"
     ]
    }
   ],
   "source": [
    "\n",
    "# Train the model\n",
    "num_epochs = 500\n",
    "\n",
    "\n",
    "\n",
    "for epoch in range(num_epochs):\n",
    "\tfor x, label in iter(test_dataloader):\n",
    "\t\t# Forward pass\n",
    "\t\tout, hidden = model(x)\n",
    "\t\tloss = criterion(out.squeeze(), label.float())\n",
    "\n",
    "\t\t# Backward and optimize\n",
    "\t\toptimizer.zero_grad()\n",
    "\t\tloss.backward()\n",
    "\t\toptimizer.step()\n",
    "\n",
    "\t\t# Compute accuracy\n",
    "\t\taccuracy = compute_accuracy(label, out)\n",
    "\n",
    "\t\tif epoch % 50 == 0:\n",
    "\t\t\tprint(f\"Epoch [{epoch}/{num_epochs}], Loss: {loss.item():.4f}, Accuracy: {accuracy * 100:.2f}%\")\n"
   ]
  }
 ],
 "metadata": {
  "kernelspec": {
   "display_name": "Python 3.8.10 64-bit",
   "language": "python",
   "name": "python3"
  },
  "language_info": {
   "codemirror_mode": {
    "name": "ipython",
    "version": 3
   },
   "file_extension": ".py",
   "mimetype": "text/x-python",
   "name": "python",
   "nbconvert_exporter": "python",
   "pygments_lexer": "ipython3",
   "version": "3.10.8"
  },
  "orig_nbformat": 4,
  "vscode": {
   "interpreter": {
    "hash": "767d51c1340bd893661ea55ea3124f6de3c7a262a8b4abca0554b478b1e2ff90"
   }
  }
 },
 "nbformat": 4,
 "nbformat_minor": 2
}
